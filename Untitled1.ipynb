{
  "nbformat": 4,
  "nbformat_minor": 0,
  "metadata": {
    "colab": {
      "provenance": []
    },
    "kernelspec": {
      "name": "python3",
      "display_name": "Python 3"
    },
    "language_info": {
      "name": "python"
    }
  },
  "cells": [
    {
      "cell_type": "code",
      "execution_count": 16,
      "metadata": {
        "id": "kK_hnOqMqGF4"
      },
      "outputs": [],
      "source": [
        "#project: job recommendation system\n",
        "#using this system we can reccommend the jobs based on their skills and qualification."
      ]
    },
    {
      "cell_type": "markdown",
      "source": [
        "1️⃣ Data Processing\n",
        "The dataset is uploaded manually via Google Colab.\n",
        "Missing values are handled, and job-related text fields (location, job type) are cleaned for consistency."
      ],
      "metadata": {
        "id": "69RDaNPNuEn5"
      }
    },
    {
      "cell_type": "code",
      "source": [
        "#Job Recommendation System Overview\n",
        "#his system helps users find job recommendations based on their skills, preferred job location, and job type. It uses TF-IDF vectorization and cosine similarity to match user skills with job descriptions in the dataset. The system is deployed using Flask for API handling, ngrok for public exposure, and Streamlit for a user-friendly web interface."
      ],
      "metadata": {
        "id": "VoHTmcKSq5og"
      },
      "execution_count": 17,
      "outputs": []
    },
    {
      "cell_type": "code",
      "source": [
        "# Import required libraries\n",
        "import pandas as pd\n",
        "\n",
        "# Load dataset\n",
        "from google.colab import files\n",
        "\n",
        "uploaded = files.upload()  # Upload the dataset manually when prompted\n",
        "file_name = list(uploaded.keys())[0]  # Get the uploaded filename\n",
        "\n",
        "df = pd.read_csv(file_name)\n",
        "\n",
        "# Display dataset info\n",
        "print(\"Dataset Information:\")\n",
        "print(df.info())\n",
        "\n",
        "# Display first few rows\n",
        "print(\"\\nSample Data:\")\n",
        "print(df.head())\n",
        "\n",
        "# Check for missing values\n",
        "print(\"\\nMissing Values Count:\")\n",
        "print(df.isnull().sum())\n"
      ],
      "metadata": {
        "colab": {
          "base_uri": "https://localhost:8080/",
          "height": 1000
        },
        "id": "NBQAXkKvz7-x",
        "outputId": "ea22eeb1-2e4e-4b86-c585-3f8213f90d2d"
      },
      "execution_count": 1,
      "outputs": [
        {
          "output_type": "display_data",
          "data": {
            "text/plain": [
              "<IPython.core.display.HTML object>"
            ],
            "text/html": [
              "\n",
              "     <input type=\"file\" id=\"files-7f611603-97fa-46f0-8b28-c38e4de5788b\" name=\"files[]\" multiple disabled\n",
              "        style=\"border:none\" />\n",
              "     <output id=\"result-7f611603-97fa-46f0-8b28-c38e4de5788b\">\n",
              "      Upload widget is only available when the cell has been executed in the\n",
              "      current browser session. Please rerun this cell to enable.\n",
              "      </output>\n",
              "      <script>// Copyright 2017 Google LLC\n",
              "//\n",
              "// Licensed under the Apache License, Version 2.0 (the \"License\");\n",
              "// you may not use this file except in compliance with the License.\n",
              "// You may obtain a copy of the License at\n",
              "//\n",
              "//      http://www.apache.org/licenses/LICENSE-2.0\n",
              "//\n",
              "// Unless required by applicable law or agreed to in writing, software\n",
              "// distributed under the License is distributed on an \"AS IS\" BASIS,\n",
              "// WITHOUT WARRANTIES OR CONDITIONS OF ANY KIND, either express or implied.\n",
              "// See the License for the specific language governing permissions and\n",
              "// limitations under the License.\n",
              "\n",
              "/**\n",
              " * @fileoverview Helpers for google.colab Python module.\n",
              " */\n",
              "(function(scope) {\n",
              "function span(text, styleAttributes = {}) {\n",
              "  const element = document.createElement('span');\n",
              "  element.textContent = text;\n",
              "  for (const key of Object.keys(styleAttributes)) {\n",
              "    element.style[key] = styleAttributes[key];\n",
              "  }\n",
              "  return element;\n",
              "}\n",
              "\n",
              "// Max number of bytes which will be uploaded at a time.\n",
              "const MAX_PAYLOAD_SIZE = 100 * 1024;\n",
              "\n",
              "function _uploadFiles(inputId, outputId) {\n",
              "  const steps = uploadFilesStep(inputId, outputId);\n",
              "  const outputElement = document.getElementById(outputId);\n",
              "  // Cache steps on the outputElement to make it available for the next call\n",
              "  // to uploadFilesContinue from Python.\n",
              "  outputElement.steps = steps;\n",
              "\n",
              "  return _uploadFilesContinue(outputId);\n",
              "}\n",
              "\n",
              "// This is roughly an async generator (not supported in the browser yet),\n",
              "// where there are multiple asynchronous steps and the Python side is going\n",
              "// to poll for completion of each step.\n",
              "// This uses a Promise to block the python side on completion of each step,\n",
              "// then passes the result of the previous step as the input to the next step.\n",
              "function _uploadFilesContinue(outputId) {\n",
              "  const outputElement = document.getElementById(outputId);\n",
              "  const steps = outputElement.steps;\n",
              "\n",
              "  const next = steps.next(outputElement.lastPromiseValue);\n",
              "  return Promise.resolve(next.value.promise).then((value) => {\n",
              "    // Cache the last promise value to make it available to the next\n",
              "    // step of the generator.\n",
              "    outputElement.lastPromiseValue = value;\n",
              "    return next.value.response;\n",
              "  });\n",
              "}\n",
              "\n",
              "/**\n",
              " * Generator function which is called between each async step of the upload\n",
              " * process.\n",
              " * @param {string} inputId Element ID of the input file picker element.\n",
              " * @param {string} outputId Element ID of the output display.\n",
              " * @return {!Iterable<!Object>} Iterable of next steps.\n",
              " */\n",
              "function* uploadFilesStep(inputId, outputId) {\n",
              "  const inputElement = document.getElementById(inputId);\n",
              "  inputElement.disabled = false;\n",
              "\n",
              "  const outputElement = document.getElementById(outputId);\n",
              "  outputElement.innerHTML = '';\n",
              "\n",
              "  const pickedPromise = new Promise((resolve) => {\n",
              "    inputElement.addEventListener('change', (e) => {\n",
              "      resolve(e.target.files);\n",
              "    });\n",
              "  });\n",
              "\n",
              "  const cancel = document.createElement('button');\n",
              "  inputElement.parentElement.appendChild(cancel);\n",
              "  cancel.textContent = 'Cancel upload';\n",
              "  const cancelPromise = new Promise((resolve) => {\n",
              "    cancel.onclick = () => {\n",
              "      resolve(null);\n",
              "    };\n",
              "  });\n",
              "\n",
              "  // Wait for the user to pick the files.\n",
              "  const files = yield {\n",
              "    promise: Promise.race([pickedPromise, cancelPromise]),\n",
              "    response: {\n",
              "      action: 'starting',\n",
              "    }\n",
              "  };\n",
              "\n",
              "  cancel.remove();\n",
              "\n",
              "  // Disable the input element since further picks are not allowed.\n",
              "  inputElement.disabled = true;\n",
              "\n",
              "  if (!files) {\n",
              "    return {\n",
              "      response: {\n",
              "        action: 'complete',\n",
              "      }\n",
              "    };\n",
              "  }\n",
              "\n",
              "  for (const file of files) {\n",
              "    const li = document.createElement('li');\n",
              "    li.append(span(file.name, {fontWeight: 'bold'}));\n",
              "    li.append(span(\n",
              "        `(${file.type || 'n/a'}) - ${file.size} bytes, ` +\n",
              "        `last modified: ${\n",
              "            file.lastModifiedDate ? file.lastModifiedDate.toLocaleDateString() :\n",
              "                                    'n/a'} - `));\n",
              "    const percent = span('0% done');\n",
              "    li.appendChild(percent);\n",
              "\n",
              "    outputElement.appendChild(li);\n",
              "\n",
              "    const fileDataPromise = new Promise((resolve) => {\n",
              "      const reader = new FileReader();\n",
              "      reader.onload = (e) => {\n",
              "        resolve(e.target.result);\n",
              "      };\n",
              "      reader.readAsArrayBuffer(file);\n",
              "    });\n",
              "    // Wait for the data to be ready.\n",
              "    let fileData = yield {\n",
              "      promise: fileDataPromise,\n",
              "      response: {\n",
              "        action: 'continue',\n",
              "      }\n",
              "    };\n",
              "\n",
              "    // Use a chunked sending to avoid message size limits. See b/62115660.\n",
              "    let position = 0;\n",
              "    do {\n",
              "      const length = Math.min(fileData.byteLength - position, MAX_PAYLOAD_SIZE);\n",
              "      const chunk = new Uint8Array(fileData, position, length);\n",
              "      position += length;\n",
              "\n",
              "      const base64 = btoa(String.fromCharCode.apply(null, chunk));\n",
              "      yield {\n",
              "        response: {\n",
              "          action: 'append',\n",
              "          file: file.name,\n",
              "          data: base64,\n",
              "        },\n",
              "      };\n",
              "\n",
              "      let percentDone = fileData.byteLength === 0 ?\n",
              "          100 :\n",
              "          Math.round((position / fileData.byteLength) * 100);\n",
              "      percent.textContent = `${percentDone}% done`;\n",
              "\n",
              "    } while (position < fileData.byteLength);\n",
              "  }\n",
              "\n",
              "  // All done.\n",
              "  yield {\n",
              "    response: {\n",
              "      action: 'complete',\n",
              "    }\n",
              "  };\n",
              "}\n",
              "\n",
              "scope.google = scope.google || {};\n",
              "scope.google.colab = scope.google.colab || {};\n",
              "scope.google.colab._files = {\n",
              "  _uploadFiles,\n",
              "  _uploadFilesContinue,\n",
              "};\n",
              "})(self);\n",
              "</script> "
            ]
          },
          "metadata": {}
        },
        {
          "output_type": "stream",
          "name": "stdout",
          "text": [
            "Saving india_job_market_dataset.csv to india_job_market_dataset.csv\n",
            "Dataset Information:\n",
            "<class 'pandas.core.frame.DataFrame'>\n",
            "RangeIndex: 20000 entries, 0 to 19999\n",
            "Data columns (total 15 columns):\n",
            " #   Column                 Non-Null Count  Dtype \n",
            "---  ------                 --------------  ----- \n",
            " 0   Job ID                 20000 non-null  object\n",
            " 1   Job Title              20000 non-null  object\n",
            " 2   Company Name           20000 non-null  object\n",
            " 3   Job Location           20000 non-null  object\n",
            " 4   Job Type               20000 non-null  object\n",
            " 5   Salary Range           20000 non-null  object\n",
            " 6   Experience Required    20000 non-null  object\n",
            " 7   Posted Date            20000 non-null  object\n",
            " 8   Application Deadline   20000 non-null  object\n",
            " 9   Job Portal             20000 non-null  object\n",
            " 10  Number of Applicants   20000 non-null  int64 \n",
            " 11  Education Requirement  20000 non-null  object\n",
            " 12  Skills Required        20000 non-null  object\n",
            " 13  Remote/Onsite          20000 non-null  object\n",
            " 14  Company Size           20000 non-null  object\n",
            "dtypes: int64(1), object(14)\n",
            "memory usage: 2.3+ MB\n",
            "None\n",
            "\n",
            "Sample Data:\n",
            "  Job ID            Job Title Company Name Job Location    Job Type  \\\n",
            "0   JOB1    Software Engineer       Amazon    Ahmedabad   Full-time   \n",
            "1   JOB2  Marketing Executive      Infosys    Ahmedabad  Internship   \n",
            "2   JOB3    Financial Analyst     Deloitte       Jaipur    Contract   \n",
            "3   JOB4     Business Analyst       Amazon        Delhi   Full-time   \n",
            "4   JOB5    Software Engineer      Infosys        Delhi   Full-time   \n",
            "\n",
            "  Salary Range Experience Required Posted Date Application Deadline  \\\n",
            "0      5-8 LPA           2-5 years  2025-01-16           2025-01-25   \n",
            "1      5-8 LPA           2-5 years  2024-12-25           2025-01-19   \n",
            "2      20+ LPA          5-10 years  2025-01-22           2025-01-29   \n",
            "3      20+ LPA           2-5 years  2025-01-07           2025-02-06   \n",
            "4    12-20 LPA           10+ years  2024-12-26           2025-01-08   \n",
            "\n",
            "   Job Portal  Number of Applicants Education Requirement  \\\n",
            "0    LinkedIn                    23                   PhD   \n",
            "1      Indeed                   462                   MBA   \n",
            "2  Naukri.com                   430                M.Tech   \n",
            "3    LinkedIn                   387                B.Tech   \n",
            "4      Indeed                   199                   MBA   \n",
            "\n",
            "                  Skills Required Remote/Onsite  Company Size  \n",
            "0                C++, SQL, Python        Remote  Small (1-50)  \n",
            "1                SQL, C++, Python        Remote  Large (500+)  \n",
            "2  Machine Learning, Excel, React        Remote  Large (500+)  \n",
            "3   Machine Learning, Python, SQL        Hybrid  Small (1-50)  \n",
            "4                UI/UX, C++, Java        Onsite  Small (1-50)  \n",
            "\n",
            "Missing Values Count:\n",
            "Job ID                   0\n",
            "Job Title                0\n",
            "Company Name             0\n",
            "Job Location             0\n",
            "Job Type                 0\n",
            "Salary Range             0\n",
            "Experience Required      0\n",
            "Posted Date              0\n",
            "Application Deadline     0\n",
            "Job Portal               0\n",
            "Number of Applicants     0\n",
            "Education Requirement    0\n",
            "Skills Required          0\n",
            "Remote/Onsite            0\n",
            "Company Size             0\n",
            "dtype: int64\n"
          ]
        }
      ]
    },
    {
      "cell_type": "code",
      "source": [
        "# Fill missing values with empty string\n",
        "df.fillna(\"\", inplace=True)\n",
        "\n",
        "# ✅ Ensure location & job type are clean\n",
        "df[\"Job Location\"] = df[\"Job Location\"].astype(str).str.strip().str.lower()\n",
        "df[\"Job Type\"] = df[\"Job Type\"].astype(str).str.strip().str.lower()\n",
        "\n",
        "# Display processed dataset\n",
        "print(\"Processed Dataset Sample:\")\n",
        "df.head()\n"
      ],
      "metadata": {
        "colab": {
          "base_uri": "https://localhost:8080/",
          "height": 469
        },
        "id": "3lofJmjV2qNk",
        "outputId": "2e69236e-4f67-4851-cd66-d1b2515d9a86"
      },
      "execution_count": 2,
      "outputs": [
        {
          "output_type": "stream",
          "name": "stdout",
          "text": [
            "Processed Dataset Sample:\n"
          ]
        },
        {
          "output_type": "execute_result",
          "data": {
            "text/plain": [
              "  Job ID            Job Title Company Name Job Location    Job Type  \\\n",
              "0   JOB1    Software Engineer       Amazon    ahmedabad   full-time   \n",
              "1   JOB2  Marketing Executive      Infosys    ahmedabad  internship   \n",
              "2   JOB3    Financial Analyst     Deloitte       jaipur    contract   \n",
              "3   JOB4     Business Analyst       Amazon        delhi   full-time   \n",
              "4   JOB5    Software Engineer      Infosys        delhi   full-time   \n",
              "\n",
              "  Salary Range Experience Required Posted Date Application Deadline  \\\n",
              "0      5-8 LPA           2-5 years  2025-01-16           2025-01-25   \n",
              "1      5-8 LPA           2-5 years  2024-12-25           2025-01-19   \n",
              "2      20+ LPA          5-10 years  2025-01-22           2025-01-29   \n",
              "3      20+ LPA           2-5 years  2025-01-07           2025-02-06   \n",
              "4    12-20 LPA           10+ years  2024-12-26           2025-01-08   \n",
              "\n",
              "   Job Portal  Number of Applicants Education Requirement  \\\n",
              "0    LinkedIn                    23                   PhD   \n",
              "1      Indeed                   462                   MBA   \n",
              "2  Naukri.com                   430                M.Tech   \n",
              "3    LinkedIn                   387                B.Tech   \n",
              "4      Indeed                   199                   MBA   \n",
              "\n",
              "                  Skills Required Remote/Onsite  Company Size  \n",
              "0                C++, SQL, Python        Remote  Small (1-50)  \n",
              "1                SQL, C++, Python        Remote  Large (500+)  \n",
              "2  Machine Learning, Excel, React        Remote  Large (500+)  \n",
              "3   Machine Learning, Python, SQL        Hybrid  Small (1-50)  \n",
              "4                UI/UX, C++, Java        Onsite  Small (1-50)  "
            ],
            "text/html": [
              "\n",
              "  <div id=\"df-afd8634c-4741-434a-b3bb-bc1672c0a2a7\" class=\"colab-df-container\">\n",
              "    <div>\n",
              "<style scoped>\n",
              "    .dataframe tbody tr th:only-of-type {\n",
              "        vertical-align: middle;\n",
              "    }\n",
              "\n",
              "    .dataframe tbody tr th {\n",
              "        vertical-align: top;\n",
              "    }\n",
              "\n",
              "    .dataframe thead th {\n",
              "        text-align: right;\n",
              "    }\n",
              "</style>\n",
              "<table border=\"1\" class=\"dataframe\">\n",
              "  <thead>\n",
              "    <tr style=\"text-align: right;\">\n",
              "      <th></th>\n",
              "      <th>Job ID</th>\n",
              "      <th>Job Title</th>\n",
              "      <th>Company Name</th>\n",
              "      <th>Job Location</th>\n",
              "      <th>Job Type</th>\n",
              "      <th>Salary Range</th>\n",
              "      <th>Experience Required</th>\n",
              "      <th>Posted Date</th>\n",
              "      <th>Application Deadline</th>\n",
              "      <th>Job Portal</th>\n",
              "      <th>Number of Applicants</th>\n",
              "      <th>Education Requirement</th>\n",
              "      <th>Skills Required</th>\n",
              "      <th>Remote/Onsite</th>\n",
              "      <th>Company Size</th>\n",
              "    </tr>\n",
              "  </thead>\n",
              "  <tbody>\n",
              "    <tr>\n",
              "      <th>0</th>\n",
              "      <td>JOB1</td>\n",
              "      <td>Software Engineer</td>\n",
              "      <td>Amazon</td>\n",
              "      <td>ahmedabad</td>\n",
              "      <td>full-time</td>\n",
              "      <td>5-8 LPA</td>\n",
              "      <td>2-5 years</td>\n",
              "      <td>2025-01-16</td>\n",
              "      <td>2025-01-25</td>\n",
              "      <td>LinkedIn</td>\n",
              "      <td>23</td>\n",
              "      <td>PhD</td>\n",
              "      <td>C++, SQL, Python</td>\n",
              "      <td>Remote</td>\n",
              "      <td>Small (1-50)</td>\n",
              "    </tr>\n",
              "    <tr>\n",
              "      <th>1</th>\n",
              "      <td>JOB2</td>\n",
              "      <td>Marketing Executive</td>\n",
              "      <td>Infosys</td>\n",
              "      <td>ahmedabad</td>\n",
              "      <td>internship</td>\n",
              "      <td>5-8 LPA</td>\n",
              "      <td>2-5 years</td>\n",
              "      <td>2024-12-25</td>\n",
              "      <td>2025-01-19</td>\n",
              "      <td>Indeed</td>\n",
              "      <td>462</td>\n",
              "      <td>MBA</td>\n",
              "      <td>SQL, C++, Python</td>\n",
              "      <td>Remote</td>\n",
              "      <td>Large (500+)</td>\n",
              "    </tr>\n",
              "    <tr>\n",
              "      <th>2</th>\n",
              "      <td>JOB3</td>\n",
              "      <td>Financial Analyst</td>\n",
              "      <td>Deloitte</td>\n",
              "      <td>jaipur</td>\n",
              "      <td>contract</td>\n",
              "      <td>20+ LPA</td>\n",
              "      <td>5-10 years</td>\n",
              "      <td>2025-01-22</td>\n",
              "      <td>2025-01-29</td>\n",
              "      <td>Naukri.com</td>\n",
              "      <td>430</td>\n",
              "      <td>M.Tech</td>\n",
              "      <td>Machine Learning, Excel, React</td>\n",
              "      <td>Remote</td>\n",
              "      <td>Large (500+)</td>\n",
              "    </tr>\n",
              "    <tr>\n",
              "      <th>3</th>\n",
              "      <td>JOB4</td>\n",
              "      <td>Business Analyst</td>\n",
              "      <td>Amazon</td>\n",
              "      <td>delhi</td>\n",
              "      <td>full-time</td>\n",
              "      <td>20+ LPA</td>\n",
              "      <td>2-5 years</td>\n",
              "      <td>2025-01-07</td>\n",
              "      <td>2025-02-06</td>\n",
              "      <td>LinkedIn</td>\n",
              "      <td>387</td>\n",
              "      <td>B.Tech</td>\n",
              "      <td>Machine Learning, Python, SQL</td>\n",
              "      <td>Hybrid</td>\n",
              "      <td>Small (1-50)</td>\n",
              "    </tr>\n",
              "    <tr>\n",
              "      <th>4</th>\n",
              "      <td>JOB5</td>\n",
              "      <td>Software Engineer</td>\n",
              "      <td>Infosys</td>\n",
              "      <td>delhi</td>\n",
              "      <td>full-time</td>\n",
              "      <td>12-20 LPA</td>\n",
              "      <td>10+ years</td>\n",
              "      <td>2024-12-26</td>\n",
              "      <td>2025-01-08</td>\n",
              "      <td>Indeed</td>\n",
              "      <td>199</td>\n",
              "      <td>MBA</td>\n",
              "      <td>UI/UX, C++, Java</td>\n",
              "      <td>Onsite</td>\n",
              "      <td>Small (1-50)</td>\n",
              "    </tr>\n",
              "  </tbody>\n",
              "</table>\n",
              "</div>\n",
              "    <div class=\"colab-df-buttons\">\n",
              "\n",
              "  <div class=\"colab-df-container\">\n",
              "    <button class=\"colab-df-convert\" onclick=\"convertToInteractive('df-afd8634c-4741-434a-b3bb-bc1672c0a2a7')\"\n",
              "            title=\"Convert this dataframe to an interactive table.\"\n",
              "            style=\"display:none;\">\n",
              "\n",
              "  <svg xmlns=\"http://www.w3.org/2000/svg\" height=\"24px\" viewBox=\"0 -960 960 960\">\n",
              "    <path d=\"M120-120v-720h720v720H120Zm60-500h600v-160H180v160Zm220 220h160v-160H400v160Zm0 220h160v-160H400v160ZM180-400h160v-160H180v160Zm440 0h160v-160H620v160ZM180-180h160v-160H180v160Zm440 0h160v-160H620v160Z\"/>\n",
              "  </svg>\n",
              "    </button>\n",
              "\n",
              "  <style>\n",
              "    .colab-df-container {\n",
              "      display:flex;\n",
              "      gap: 12px;\n",
              "    }\n",
              "\n",
              "    .colab-df-convert {\n",
              "      background-color: #E8F0FE;\n",
              "      border: none;\n",
              "      border-radius: 50%;\n",
              "      cursor: pointer;\n",
              "      display: none;\n",
              "      fill: #1967D2;\n",
              "      height: 32px;\n",
              "      padding: 0 0 0 0;\n",
              "      width: 32px;\n",
              "    }\n",
              "\n",
              "    .colab-df-convert:hover {\n",
              "      background-color: #E2EBFA;\n",
              "      box-shadow: 0px 1px 2px rgba(60, 64, 67, 0.3), 0px 1px 3px 1px rgba(60, 64, 67, 0.15);\n",
              "      fill: #174EA6;\n",
              "    }\n",
              "\n",
              "    .colab-df-buttons div {\n",
              "      margin-bottom: 4px;\n",
              "    }\n",
              "\n",
              "    [theme=dark] .colab-df-convert {\n",
              "      background-color: #3B4455;\n",
              "      fill: #D2E3FC;\n",
              "    }\n",
              "\n",
              "    [theme=dark] .colab-df-convert:hover {\n",
              "      background-color: #434B5C;\n",
              "      box-shadow: 0px 1px 3px 1px rgba(0, 0, 0, 0.15);\n",
              "      filter: drop-shadow(0px 1px 2px rgba(0, 0, 0, 0.3));\n",
              "      fill: #FFFFFF;\n",
              "    }\n",
              "  </style>\n",
              "\n",
              "    <script>\n",
              "      const buttonEl =\n",
              "        document.querySelector('#df-afd8634c-4741-434a-b3bb-bc1672c0a2a7 button.colab-df-convert');\n",
              "      buttonEl.style.display =\n",
              "        google.colab.kernel.accessAllowed ? 'block' : 'none';\n",
              "\n",
              "      async function convertToInteractive(key) {\n",
              "        const element = document.querySelector('#df-afd8634c-4741-434a-b3bb-bc1672c0a2a7');\n",
              "        const dataTable =\n",
              "          await google.colab.kernel.invokeFunction('convertToInteractive',\n",
              "                                                    [key], {});\n",
              "        if (!dataTable) return;\n",
              "\n",
              "        const docLinkHtml = 'Like what you see? Visit the ' +\n",
              "          '<a target=\"_blank\" href=https://colab.research.google.com/notebooks/data_table.ipynb>data table notebook</a>'\n",
              "          + ' to learn more about interactive tables.';\n",
              "        element.innerHTML = '';\n",
              "        dataTable['output_type'] = 'display_data';\n",
              "        await google.colab.output.renderOutput(dataTable, element);\n",
              "        const docLink = document.createElement('div');\n",
              "        docLink.innerHTML = docLinkHtml;\n",
              "        element.appendChild(docLink);\n",
              "      }\n",
              "    </script>\n",
              "  </div>\n",
              "\n",
              "\n",
              "<div id=\"df-570e7a1d-7931-4c05-8241-202454f312b9\">\n",
              "  <button class=\"colab-df-quickchart\" onclick=\"quickchart('df-570e7a1d-7931-4c05-8241-202454f312b9')\"\n",
              "            title=\"Suggest charts\"\n",
              "            style=\"display:none;\">\n",
              "\n",
              "<svg xmlns=\"http://www.w3.org/2000/svg\" height=\"24px\"viewBox=\"0 0 24 24\"\n",
              "     width=\"24px\">\n",
              "    <g>\n",
              "        <path d=\"M19 3H5c-1.1 0-2 .9-2 2v14c0 1.1.9 2 2 2h14c1.1 0 2-.9 2-2V5c0-1.1-.9-2-2-2zM9 17H7v-7h2v7zm4 0h-2V7h2v10zm4 0h-2v-4h2v4z\"/>\n",
              "    </g>\n",
              "</svg>\n",
              "  </button>\n",
              "\n",
              "<style>\n",
              "  .colab-df-quickchart {\n",
              "      --bg-color: #E8F0FE;\n",
              "      --fill-color: #1967D2;\n",
              "      --hover-bg-color: #E2EBFA;\n",
              "      --hover-fill-color: #174EA6;\n",
              "      --disabled-fill-color: #AAA;\n",
              "      --disabled-bg-color: #DDD;\n",
              "  }\n",
              "\n",
              "  [theme=dark] .colab-df-quickchart {\n",
              "      --bg-color: #3B4455;\n",
              "      --fill-color: #D2E3FC;\n",
              "      --hover-bg-color: #434B5C;\n",
              "      --hover-fill-color: #FFFFFF;\n",
              "      --disabled-bg-color: #3B4455;\n",
              "      --disabled-fill-color: #666;\n",
              "  }\n",
              "\n",
              "  .colab-df-quickchart {\n",
              "    background-color: var(--bg-color);\n",
              "    border: none;\n",
              "    border-radius: 50%;\n",
              "    cursor: pointer;\n",
              "    display: none;\n",
              "    fill: var(--fill-color);\n",
              "    height: 32px;\n",
              "    padding: 0;\n",
              "    width: 32px;\n",
              "  }\n",
              "\n",
              "  .colab-df-quickchart:hover {\n",
              "    background-color: var(--hover-bg-color);\n",
              "    box-shadow: 0 1px 2px rgba(60, 64, 67, 0.3), 0 1px 3px 1px rgba(60, 64, 67, 0.15);\n",
              "    fill: var(--button-hover-fill-color);\n",
              "  }\n",
              "\n",
              "  .colab-df-quickchart-complete:disabled,\n",
              "  .colab-df-quickchart-complete:disabled:hover {\n",
              "    background-color: var(--disabled-bg-color);\n",
              "    fill: var(--disabled-fill-color);\n",
              "    box-shadow: none;\n",
              "  }\n",
              "\n",
              "  .colab-df-spinner {\n",
              "    border: 2px solid var(--fill-color);\n",
              "    border-color: transparent;\n",
              "    border-bottom-color: var(--fill-color);\n",
              "    animation:\n",
              "      spin 1s steps(1) infinite;\n",
              "  }\n",
              "\n",
              "  @keyframes spin {\n",
              "    0% {\n",
              "      border-color: transparent;\n",
              "      border-bottom-color: var(--fill-color);\n",
              "      border-left-color: var(--fill-color);\n",
              "    }\n",
              "    20% {\n",
              "      border-color: transparent;\n",
              "      border-left-color: var(--fill-color);\n",
              "      border-top-color: var(--fill-color);\n",
              "    }\n",
              "    30% {\n",
              "      border-color: transparent;\n",
              "      border-left-color: var(--fill-color);\n",
              "      border-top-color: var(--fill-color);\n",
              "      border-right-color: var(--fill-color);\n",
              "    }\n",
              "    40% {\n",
              "      border-color: transparent;\n",
              "      border-right-color: var(--fill-color);\n",
              "      border-top-color: var(--fill-color);\n",
              "    }\n",
              "    60% {\n",
              "      border-color: transparent;\n",
              "      border-right-color: var(--fill-color);\n",
              "    }\n",
              "    80% {\n",
              "      border-color: transparent;\n",
              "      border-right-color: var(--fill-color);\n",
              "      border-bottom-color: var(--fill-color);\n",
              "    }\n",
              "    90% {\n",
              "      border-color: transparent;\n",
              "      border-bottom-color: var(--fill-color);\n",
              "    }\n",
              "  }\n",
              "</style>\n",
              "\n",
              "  <script>\n",
              "    async function quickchart(key) {\n",
              "      const quickchartButtonEl =\n",
              "        document.querySelector('#' + key + ' button');\n",
              "      quickchartButtonEl.disabled = true;  // To prevent multiple clicks.\n",
              "      quickchartButtonEl.classList.add('colab-df-spinner');\n",
              "      try {\n",
              "        const charts = await google.colab.kernel.invokeFunction(\n",
              "            'suggestCharts', [key], {});\n",
              "      } catch (error) {\n",
              "        console.error('Error during call to suggestCharts:', error);\n",
              "      }\n",
              "      quickchartButtonEl.classList.remove('colab-df-spinner');\n",
              "      quickchartButtonEl.classList.add('colab-df-quickchart-complete');\n",
              "    }\n",
              "    (() => {\n",
              "      let quickchartButtonEl =\n",
              "        document.querySelector('#df-570e7a1d-7931-4c05-8241-202454f312b9 button');\n",
              "      quickchartButtonEl.style.display =\n",
              "        google.colab.kernel.accessAllowed ? 'block' : 'none';\n",
              "    })();\n",
              "  </script>\n",
              "</div>\n",
              "\n",
              "    </div>\n",
              "  </div>\n"
            ],
            "application/vnd.google.colaboratory.intrinsic+json": {
              "type": "dataframe",
              "variable_name": "df",
              "summary": "{\n  \"name\": \"df\",\n  \"rows\": 20000,\n  \"fields\": [\n    {\n      \"column\": \"Job ID\",\n      \"properties\": {\n        \"dtype\": \"string\",\n        \"num_unique_values\": 20000,\n        \"samples\": [\n          \"JOB10651\",\n          \"JOB2042\",\n          \"JOB8669\"\n        ],\n        \"semantic_type\": \"\",\n        \"description\": \"\"\n      }\n    },\n    {\n      \"column\": \"Job Title\",\n      \"properties\": {\n        \"dtype\": \"category\",\n        \"num_unique_values\": 10,\n        \"samples\": [\n          \"Cyber Security Analyst\",\n          \"Marketing Executive\",\n          \"Sales Representative\"\n        ],\n        \"semantic_type\": \"\",\n        \"description\": \"\"\n      }\n    },\n    {\n      \"column\": \"Company Name\",\n      \"properties\": {\n        \"dtype\": \"category\",\n        \"num_unique_values\": 10,\n        \"samples\": [\n          \"IBM\",\n          \"Infosys\",\n          \"HCL\"\n        ],\n        \"semantic_type\": \"\",\n        \"description\": \"\"\n      }\n    },\n    {\n      \"column\": \"Job Location\",\n      \"properties\": {\n        \"dtype\": \"category\",\n        \"num_unique_values\": 10,\n        \"samples\": [\n          \"bangalore\",\n          \"jaipur\",\n          \"mumbai\"\n        ],\n        \"semantic_type\": \"\",\n        \"description\": \"\"\n      }\n    },\n    {\n      \"column\": \"Job Type\",\n      \"properties\": {\n        \"dtype\": \"category\",\n        \"num_unique_values\": 4,\n        \"samples\": [\n          \"internship\",\n          \"part-time\",\n          \"full-time\"\n        ],\n        \"semantic_type\": \"\",\n        \"description\": \"\"\n      }\n    },\n    {\n      \"column\": \"Salary Range\",\n      \"properties\": {\n        \"dtype\": \"category\",\n        \"num_unique_values\": 5,\n        \"samples\": [\n          \"20+ LPA\",\n          \"8-12 LPA\",\n          \"12-20 LPA\"\n        ],\n        \"semantic_type\": \"\",\n        \"description\": \"\"\n      }\n    },\n    {\n      \"column\": \"Experience Required\",\n      \"properties\": {\n        \"dtype\": \"category\",\n        \"num_unique_values\": 4,\n        \"samples\": [\n          \"5-10 years\",\n          \"0-2 years\",\n          \"2-5 years\"\n        ],\n        \"semantic_type\": \"\",\n        \"description\": \"\"\n      }\n    },\n    {\n      \"column\": \"Posted Date\",\n      \"properties\": {\n        \"dtype\": \"object\",\n        \"num_unique_values\": 31,\n        \"samples\": [\n          \"2025-01-03\",\n          \"2025-01-14\",\n          \"2025-01-05\"\n        ],\n        \"semantic_type\": \"\",\n        \"description\": \"\"\n      }\n    },\n    {\n      \"column\": \"Application Deadline\",\n      \"properties\": {\n        \"dtype\": \"object\",\n        \"num_unique_values\": 54,\n        \"samples\": [\n          \"2025-02-11\",\n          \"2025-02-20\",\n          \"2025-01-02\"\n        ],\n        \"semantic_type\": \"\",\n        \"description\": \"\"\n      }\n    },\n    {\n      \"column\": \"Job Portal\",\n      \"properties\": {\n        \"dtype\": \"category\",\n        \"num_unique_values\": 3,\n        \"samples\": [\n          \"LinkedIn\",\n          \"Indeed\",\n          \"Naukri.com\"\n        ],\n        \"semantic_type\": \"\",\n        \"description\": \"\"\n      }\n    },\n    {\n      \"column\": \"Number of Applicants\",\n      \"properties\": {\n        \"dtype\": \"number\",\n        \"std\": 141,\n        \"min\": 10,\n        \"max\": 500,\n        \"num_unique_values\": 491,\n        \"samples\": [\n          22,\n          78,\n          68\n        ],\n        \"semantic_type\": \"\",\n        \"description\": \"\"\n      }\n    },\n    {\n      \"column\": \"Education Requirement\",\n      \"properties\": {\n        \"dtype\": \"category\",\n        \"num_unique_values\": 5,\n        \"samples\": [\n          \"MBA\",\n          \"B.Sc\",\n          \"M.Tech\"\n        ],\n        \"semantic_type\": \"\",\n        \"description\": \"\"\n      }\n    },\n    {\n      \"column\": \"Skills Required\",\n      \"properties\": {\n        \"dtype\": \"category\",\n        \"num_unique_values\": 720,\n        \"samples\": [\n          \"AWS, Machine Learning, React\",\n          \"Excel, React, UI/UX\",\n          \"Machine Learning, C++, SQL\"\n        ],\n        \"semantic_type\": \"\",\n        \"description\": \"\"\n      }\n    },\n    {\n      \"column\": \"Remote/Onsite\",\n      \"properties\": {\n        \"dtype\": \"category\",\n        \"num_unique_values\": 3,\n        \"samples\": [\n          \"Remote\",\n          \"Hybrid\",\n          \"Onsite\"\n        ],\n        \"semantic_type\": \"\",\n        \"description\": \"\"\n      }\n    },\n    {\n      \"column\": \"Company Size\",\n      \"properties\": {\n        \"dtype\": \"category\",\n        \"num_unique_values\": 3,\n        \"samples\": [\n          \"Small (1-50)\",\n          \"Large (500+)\",\n          \"Medium (51-500)\"\n        ],\n        \"semantic_type\": \"\",\n        \"description\": \"\"\n      }\n    }\n  ]\n}"
            }
          },
          "metadata": {},
          "execution_count": 2
        }
      ]
    },
    {
      "cell_type": "markdown",
      "source": [
        "2️⃣ Job Recommendation Logic\n",
        "\n",
        "TF-IDF Vectorization is applied to the \"Skills Required\" column.\n",
        "\n",
        "Cosine Similarity is used to compare the user's input skills with job descriptions.\n",
        "\n",
        "Jobs are filtered based on preferred location and job type if specified."
      ],
      "metadata": {
        "id": "NRiqYoe4sssF"
      }
    },
    {
      "cell_type": "code",
      "source": [
        "from sklearn.feature_extraction.text import TfidfVectorizer\n",
        "from sklearn.metrics.pairwise import cosine_similarity\n",
        "\n",
        "\n",
        "# Apply TF-IDF Vectorization on skills\n",
        "tfidf = TfidfVectorizer(stop_words='english')\n",
        "tfidf_matrix = tfidf.fit_transform(df[\"Skills Required\"])\n",
        "\n",
        "# Compute cosine similarity\n",
        "cosine_sim = cosine_similarity(tfidf_matrix, tfidf_matrix)\n",
        "\n",
        "# ✅ Function to recommend jobs based on user preferences\n",
        "def recommend_jobs_for_user(user_skills, preferred_location=\"\", preferred_job_type=\"\", top_n=5):\n",
        "    user_skills_tfidf = tfidf.transform([user_skills])\n",
        "    user_similarity_scores = cosine_similarity(user_skills_tfidf, tfidf_matrix).flatten()\n",
        "\n",
        "    filtered_df = df.copy()\n",
        "    filtered_df[\"Similarity_Score\"] = user_similarity_scores\n",
        "\n",
        "    print(f\"Total jobs before filtering: {len(filtered_df)}\")\n",
        "\n",
        "    # ✅ Apply location filter\n",
        "    if preferred_location:\n",
        "        preferred_location = preferred_location.strip().lower()\n",
        "        filtered_df = filtered_df[filtered_df[\"Job Location\"].str.contains(preferred_location, na=False)]\n",
        "        print(f\"Jobs after location filter ({preferred_location}): {len(filtered_df)}\")\n",
        "\n",
        "    # ✅ Apply job type filter\n",
        "    if preferred_job_type:\n",
        "        preferred_job_type = preferred_job_type.strip().lower()\n",
        "        filtered_df = filtered_df[filtered_df[\"Job Type\"].str.contains(preferred_job_type, na=False)]\n",
        "        print(f\"Jobs after job type filter ({preferred_job_type}): {len(filtered_df)}\")\n",
        "\n",
        "    if filtered_df.empty:\n",
        "        print(\"⚠ No jobs found matching the criteria!\")\n",
        "\n",
        "    # Sort and return top N recommendations\n",
        "    recommended_jobs = filtered_df.sort_values(by=\"Similarity_Score\", ascending=False).head(top_n)\n",
        "\n",
        "    return recommended_jobs[[\"Job Title\", \"Company Name\", \"Job Location\", \"Skills Required\", \"Job Type\"]]\n",
        "\n",
        "# ✅ Example Test\n",
        "recommended_jobs = recommend_jobs_for_user(\"Python, SQL\", \"delhi\", \"full-time\")\n",
        "print(recommended_jobs)"
      ],
      "metadata": {
        "colab": {
          "base_uri": "https://localhost:8080/"
        },
        "id": "2d0xqlI_TSta",
        "outputId": "fdb3617e-d714-448e-8633-534aa136a8b8"
      },
      "execution_count": 3,
      "outputs": [
        {
          "output_type": "stream",
          "name": "stdout",
          "text": [
            "Total jobs before filtering: 20000\n",
            "Jobs after location filter (delhi): 1990\n",
            "Jobs after job type filter (full-time): 500\n",
            "                 Job Title Company Name Job Location   Skills Required  \\\n",
            "4062      Graphic Designer          HCL        delhi  Python, C++, SQL   \n",
            "9373      Graphic Designer      Infosys        delhi  C++, Python, SQL   \n",
            "168        Product Manager          TCS        delhi  SQL, C++, Python   \n",
            "17615  Marketing Executive    Accenture        delhi  C++, Python, SQL   \n",
            "9027     Software Engineer        Wipro        delhi  SQL, C++, Python   \n",
            "\n",
            "        Job Type  \n",
            "4062   full-time  \n",
            "9373   full-time  \n",
            "168    full-time  \n",
            "17615  full-time  \n",
            "9027   full-time  \n"
          ]
        }
      ]
    },
    {
      "cell_type": "markdown",
      "source": [
        "3️⃣ Flask API for Job Recommendation (app.py)\n",
        "\n",
        "The Flask API exposes an endpoint (/recommend) to receive user inputs and return job recommendations in JSON format.\n",
        "\n",
        "The API filters jobs based on skills, location, and job type."
      ],
      "metadata": {
        "id": "bWltSvneucnZ"
      }
    },
    {
      "cell_type": "code",
      "source": [
        "with open(\"app.py\", \"w\") as f:\n",
        "    f.write(\"\"\"\\\n",
        "from flask import Flask, request, jsonify\n",
        "import pandas as pd\n",
        "from sklearn.feature_extraction.text import TfidfVectorizer\n",
        "from sklearn.metrics.pairwise import cosine_similarity\n",
        "\n",
        "# Load dataset\n",
        "df = pd.read_csv(\"india_job_market_dataset.csv\")\n",
        "df.fillna({\"Skills Required\": \"\"}, inplace=True)\n",
        "\n",
        "# Ensure text consistency\n",
        "df[\"Job Location\"] = df[\"Job Location\"].astype(str).str.strip().str.lower()\n",
        "df[\"Job Type\"] = df[\"Job Type\"].astype(str).str.strip().str.lower()\n",
        "\n",
        "# Apply TF-IDF Vectorization on skills\n",
        "tfidf = TfidfVectorizer(stop_words='english')\n",
        "tfidf_matrix = tfidf.fit_transform(df[\"Skills Required\"])\n",
        "\n",
        "# Compute cosine similarity\n",
        "cosine_sim = cosine_similarity(tfidf_matrix, tfidf_matrix)\n",
        "\n",
        "# Flask app\n",
        "app = Flask(__name__)\n",
        "\n",
        "# ✅ Function for recommending jobs\n",
        "def recommend_jobs_for_user(user_skills, preferred_location=\"\", preferred_job_type=\"\", top_n=5):\n",
        "    user_skills_tfidf = tfidf.transform([user_skills])\n",
        "    user_similarity_scores = cosine_similarity(user_skills_tfidf, tfidf_matrix).flatten()\n",
        "\n",
        "    filtered_df = df.copy()\n",
        "    filtered_df[\"Similarity_Score\"] = user_similarity_scores\n",
        "\n",
        "    # Apply location filter\n",
        "    if preferred_location:\n",
        "        preferred_location = preferred_location.strip().lower()\n",
        "        filtered_df = filtered_df[filtered_df[\"Job Location\"].str.contains(preferred_location, na=False)]\n",
        "\n",
        "    # Apply job type filter\n",
        "    if preferred_job_type:\n",
        "        preferred_job_type = preferred_job_type.strip().lower()\n",
        "        filtered_df = filtered_df[filtered_df[\"Job Type\"].str.contains(preferred_job_type, na=False)]\n",
        "\n",
        "    # Sort and return top recommendations\n",
        "    recommended_jobs = filtered_df.sort_values(by=\"Similarity_Score\", ascending=False).head(top_n)\n",
        "\n",
        "    return recommended_jobs[[\"Job Title\", \"Company Name\", \"Job Location\", \"Skills Required\", \"Job Type\"]]\n",
        "\n",
        "# ✅ API Route for Job Recommendations\n",
        "@app.route(\"/recommend\", methods=[\"POST\"])\n",
        "def recommend_jobs():\n",
        "    data = request.json\n",
        "    user_skills = data.get(\"skills\", \"\")\n",
        "    preferred_location = data.get(\"location\", \"\")\n",
        "    preferred_job_type = data.get(\"job_type\", \"\")\n",
        "\n",
        "    recommended_jobs = recommend_jobs_for_user(user_skills, preferred_location, preferred_job_type)\n",
        "    return jsonify(recommended_jobs.to_dict(orient=\"records\"))\n",
        "\n",
        "if __name__ == \"__main__\":\n",
        "    app.run(port=5000)\n",
        "\n",
        "\"\"\")\n"
      ],
      "metadata": {
        "id": "2aqCbi7Rk6sg"
      },
      "execution_count": 4,
      "outputs": []
    },
    {
      "cell_type": "code",
      "source": [
        "!nohup python app.py &\n"
      ],
      "metadata": {
        "colab": {
          "base_uri": "https://localhost:8080/"
        },
        "id": "WgdzMd0xlBCw",
        "outputId": "847ddbfe-69bb-492c-f127-24da5e935d65"
      },
      "execution_count": 5,
      "outputs": [
        {
          "output_type": "stream",
          "name": "stdout",
          "text": [
            "nohup: appending output to 'nohup.out'\n"
          ]
        }
      ]
    },
    {
      "cell_type": "markdown",
      "source": [
        "4️⃣ ngrok for Public API Exposure\n",
        "\n",
        "ngrok is used to make the Flask API publicly accessible.\n",
        "\n",
        "The API URL is printed after running ngrok."
      ],
      "metadata": {
        "id": "wzLE4Xfruk-A"
      }
    },
    {
      "cell_type": "code",
      "source": [
        "!pip install flask pyngrok\n"
      ],
      "metadata": {
        "colab": {
          "base_uri": "https://localhost:8080/"
        },
        "id": "jKXj2-5bVICi",
        "outputId": "6df243be-447f-416f-f20e-ea2b52940d0c"
      },
      "execution_count": 6,
      "outputs": [
        {
          "output_type": "stream",
          "name": "stdout",
          "text": [
            "Requirement already satisfied: flask in /usr/local/lib/python3.11/dist-packages (3.1.0)\n",
            "Collecting pyngrok\n",
            "  Downloading pyngrok-7.2.3-py3-none-any.whl.metadata (8.7 kB)\n",
            "Requirement already satisfied: Werkzeug>=3.1 in /usr/local/lib/python3.11/dist-packages (from flask) (3.1.3)\n",
            "Requirement already satisfied: Jinja2>=3.1.2 in /usr/local/lib/python3.11/dist-packages (from flask) (3.1.5)\n",
            "Requirement already satisfied: itsdangerous>=2.2 in /usr/local/lib/python3.11/dist-packages (from flask) (2.2.0)\n",
            "Requirement already satisfied: click>=8.1.3 in /usr/local/lib/python3.11/dist-packages (from flask) (8.1.8)\n",
            "Requirement already satisfied: blinker>=1.9 in /usr/local/lib/python3.11/dist-packages (from flask) (1.9.0)\n",
            "Requirement already satisfied: PyYAML>=5.1 in /usr/local/lib/python3.11/dist-packages (from pyngrok) (6.0.2)\n",
            "Requirement already satisfied: MarkupSafe>=2.0 in /usr/local/lib/python3.11/dist-packages (from Jinja2>=3.1.2->flask) (3.0.2)\n",
            "Downloading pyngrok-7.2.3-py3-none-any.whl (23 kB)\n",
            "Installing collected packages: pyngrok\n",
            "Successfully installed pyngrok-7.2.3\n"
          ]
        }
      ]
    },
    {
      "cell_type": "code",
      "source": [
        "!ngrok authtoken 2u5PFYKR21zBgEabsuZjuI3CAK1_24BbdskngMkvNg7LPRMBo"
      ],
      "metadata": {
        "colab": {
          "base_uri": "https://localhost:8080/"
        },
        "id": "pHVb8laQm_Cv",
        "outputId": "bf460a59-cc41-4937-aab8-e334a1e596c7"
      },
      "execution_count": 7,
      "outputs": [
        {
          "output_type": "stream",
          "name": "stdout",
          "text": [
            "Authtoken saved to configuration file: /root/.config/ngrok/ngrok.yml\n"
          ]
        }
      ]
    },
    {
      "cell_type": "code",
      "source": [
        "from pyngrok import ngrok\n",
        "\n",
        "# Open a tunnel on port 5000 (where Flask is running)\n",
        "public_url = ngrok.connect(5000)\n",
        "\n",
        "# Print the public URL\n",
        "print(f\"Public API URL: {public_url}\")\n"
      ],
      "metadata": {
        "colab": {
          "base_uri": "https://localhost:8080/"
        },
        "id": "25ZPm3n8ldWQ",
        "outputId": "39b6cb21-dc4d-42ae-b618-27c026b6b002"
      },
      "execution_count": 8,
      "outputs": [
        {
          "output_type": "stream",
          "name": "stdout",
          "text": [
            "Public API URL: NgrokTunnel: \"https://54b2-34-19-119-8.ngrok-free.app\" -> \"http://localhost:5000\"\n"
          ]
        }
      ]
    },
    {
      "cell_type": "code",
      "source": [
        "!curl -X POST \"http://54b2-34-19-119-8.ngrok-free.app/recommend\" -H \"Content-Type: application/json\" -d '{\"skills\": \"Python, SQL, Machine Learning\"}'\n"
      ],
      "metadata": {
        "id": "rfiyIDrSqgBu"
      },
      "execution_count": 10,
      "outputs": []
    },
    {
      "cell_type": "markdown",
      "source": [
        "5️⃣ Streamlit Web Interface (streamlit_app.py)\n",
        "\n",
        "Streamlit provides a user-friendly interface for job searching.\n",
        "\n",
        "Users enter their skills, location, and job type and get recommendations.\n",
        "\n",
        "The interface fetches results from the Flask API via ngrok.\n"
      ],
      "metadata": {
        "id": "lrKrjgC5urt-"
      }
    },
    {
      "cell_type": "code",
      "source": [
        "with open(\"streamlit_app.py\", \"w\") as f:\n",
        "    f.write(\"\"\"\\\n",
        "import streamlit as st\n",
        "import requests\n",
        "\n",
        "st.title(\"🔍 Job Recommendation System\")\n",
        "\n",
        "# Get user inputs\n",
        "user_skills = st.text_area(\"Enter your skills (comma-separated)\", \"\")\n",
        "preferred_location = st.text_input(\"Enter preferred job location (optional)\")\n",
        "preferred_job_type = st.selectbox(\"Select job type (optional)\", [\"\", \"full-time\", \"part-time\", \"remote\", \"internship\",\"contract\"])\n",
        "\n",
        "if st.button(\"Get Job Recommendations\"):\n",
        "    if user_skills:\n",
        "        API_URL = \"https://54b2-34-19-119-8.ngrok-free.app/recommend\"  # Update this with your actual ngrok URL\n",
        "\n",
        "        response = requests.post(API_URL, json={\n",
        "            \"skills\": user_skills,\n",
        "            \"location\": preferred_location,\n",
        "            \"job_type\": preferred_job_type\n",
        "        })\n",
        "\n",
        "        if response.status_code == 200:\n",
        "            job_recommendations = response.json()\n",
        "            if job_recommendations:\n",
        "                st.write(\"### Recommended Jobs:\")\n",
        "                for job in job_recommendations:\n",
        "                    st.write(f\"**{job['Job Title']}** at {job['Company Name']} ({job['Job Location']})\")\n",
        "                    st.write(f\"*Required Skills:* {job['Skills Required']}\")\n",
        "                    st.write(f\"📌 Job Type: {job.get('Job Type', 'Not Specified')}\")\n",
        "                    st.write(\"---\")\n",
        "            else:\n",
        "                st.warning(\"No matching jobs found.\")\n",
        "        else:\n",
        "            st.error(\"Error fetching recommendations. Please try again!\")\n",
        "    else:\n",
        "        st.warning(\"Please enter at least one skill!\")\n",
        "\n",
        "\"\"\")\n"
      ],
      "metadata": {
        "id": "5Z9C67CUq4b0"
      },
      "execution_count": 13,
      "outputs": []
    },
    {
      "cell_type": "code",
      "source": [
        "!pip install streamlit pyngrok\n",
        "!nohup streamlit run streamlit_app.py &\n"
      ],
      "metadata": {
        "colab": {
          "base_uri": "https://localhost:8080/"
        },
        "id": "SBFx5QD4rPcZ",
        "outputId": "dc38da10-3d23-40b5-fac7-dd61e1052786"
      },
      "execution_count": 14,
      "outputs": [
        {
          "output_type": "stream",
          "name": "stdout",
          "text": [
            "Collecting streamlit\n",
            "  Downloading streamlit-1.43.1-py2.py3-none-any.whl.metadata (8.9 kB)\n",
            "Requirement already satisfied: pyngrok in /usr/local/lib/python3.11/dist-packages (7.2.3)\n",
            "Requirement already satisfied: altair<6,>=4.0 in /usr/local/lib/python3.11/dist-packages (from streamlit) (5.5.0)\n",
            "Requirement already satisfied: blinker<2,>=1.0.0 in /usr/local/lib/python3.11/dist-packages (from streamlit) (1.9.0)\n",
            "Requirement already satisfied: cachetools<6,>=4.0 in /usr/local/lib/python3.11/dist-packages (from streamlit) (5.5.2)\n",
            "Requirement already satisfied: click<9,>=7.0 in /usr/local/lib/python3.11/dist-packages (from streamlit) (8.1.8)\n",
            "Requirement already satisfied: numpy<3,>=1.23 in /usr/local/lib/python3.11/dist-packages (from streamlit) (1.26.4)\n",
            "Requirement already satisfied: packaging<25,>=20 in /usr/local/lib/python3.11/dist-packages (from streamlit) (24.2)\n",
            "Requirement already satisfied: pandas<3,>=1.4.0 in /usr/local/lib/python3.11/dist-packages (from streamlit) (2.2.2)\n",
            "Requirement already satisfied: pillow<12,>=7.1.0 in /usr/local/lib/python3.11/dist-packages (from streamlit) (11.1.0)\n",
            "Requirement already satisfied: protobuf<6,>=3.20 in /usr/local/lib/python3.11/dist-packages (from streamlit) (4.25.6)\n",
            "Requirement already satisfied: pyarrow>=7.0 in /usr/local/lib/python3.11/dist-packages (from streamlit) (18.1.0)\n",
            "Requirement already satisfied: requests<3,>=2.27 in /usr/local/lib/python3.11/dist-packages (from streamlit) (2.32.3)\n",
            "Requirement already satisfied: tenacity<10,>=8.1.0 in /usr/local/lib/python3.11/dist-packages (from streamlit) (9.0.0)\n",
            "Requirement already satisfied: toml<2,>=0.10.1 in /usr/local/lib/python3.11/dist-packages (from streamlit) (0.10.2)\n",
            "Requirement already satisfied: typing-extensions<5,>=4.4.0 in /usr/local/lib/python3.11/dist-packages (from streamlit) (4.12.2)\n",
            "Collecting watchdog<7,>=2.1.5 (from streamlit)\n",
            "  Downloading watchdog-6.0.0-py3-none-manylinux2014_x86_64.whl.metadata (44 kB)\n",
            "\u001b[2K     \u001b[90m━━━━━━━━━━━━━━━━━━━━━━━━━━━━━━━━━━━━━━━━\u001b[0m \u001b[32m44.3/44.3 kB\u001b[0m \u001b[31m2.7 MB/s\u001b[0m eta \u001b[36m0:00:00\u001b[0m\n",
            "\u001b[?25hRequirement already satisfied: gitpython!=3.1.19,<4,>=3.0.7 in /usr/local/lib/python3.11/dist-packages (from streamlit) (3.1.44)\n",
            "Collecting pydeck<1,>=0.8.0b4 (from streamlit)\n",
            "  Downloading pydeck-0.9.1-py2.py3-none-any.whl.metadata (4.1 kB)\n",
            "Requirement already satisfied: tornado<7,>=6.0.3 in /usr/local/lib/python3.11/dist-packages (from streamlit) (6.4.2)\n",
            "Requirement already satisfied: PyYAML>=5.1 in /usr/local/lib/python3.11/dist-packages (from pyngrok) (6.0.2)\n",
            "Requirement already satisfied: jinja2 in /usr/local/lib/python3.11/dist-packages (from altair<6,>=4.0->streamlit) (3.1.5)\n",
            "Requirement already satisfied: jsonschema>=3.0 in /usr/local/lib/python3.11/dist-packages (from altair<6,>=4.0->streamlit) (4.23.0)\n",
            "Requirement already satisfied: narwhals>=1.14.2 in /usr/local/lib/python3.11/dist-packages (from altair<6,>=4.0->streamlit) (1.29.0)\n",
            "Requirement already satisfied: gitdb<5,>=4.0.1 in /usr/local/lib/python3.11/dist-packages (from gitpython!=3.1.19,<4,>=3.0.7->streamlit) (4.0.12)\n",
            "Requirement already satisfied: python-dateutil>=2.8.2 in /usr/local/lib/python3.11/dist-packages (from pandas<3,>=1.4.0->streamlit) (2.8.2)\n",
            "Requirement already satisfied: pytz>=2020.1 in /usr/local/lib/python3.11/dist-packages (from pandas<3,>=1.4.0->streamlit) (2025.1)\n",
            "Requirement already satisfied: tzdata>=2022.7 in /usr/local/lib/python3.11/dist-packages (from pandas<3,>=1.4.0->streamlit) (2025.1)\n",
            "Requirement already satisfied: charset-normalizer<4,>=2 in /usr/local/lib/python3.11/dist-packages (from requests<3,>=2.27->streamlit) (3.4.1)\n",
            "Requirement already satisfied: idna<4,>=2.5 in /usr/local/lib/python3.11/dist-packages (from requests<3,>=2.27->streamlit) (3.10)\n",
            "Requirement already satisfied: urllib3<3,>=1.21.1 in /usr/local/lib/python3.11/dist-packages (from requests<3,>=2.27->streamlit) (2.3.0)\n",
            "Requirement already satisfied: certifi>=2017.4.17 in /usr/local/lib/python3.11/dist-packages (from requests<3,>=2.27->streamlit) (2025.1.31)\n",
            "Requirement already satisfied: smmap<6,>=3.0.1 in /usr/local/lib/python3.11/dist-packages (from gitdb<5,>=4.0.1->gitpython!=3.1.19,<4,>=3.0.7->streamlit) (5.0.2)\n",
            "Requirement already satisfied: MarkupSafe>=2.0 in /usr/local/lib/python3.11/dist-packages (from jinja2->altair<6,>=4.0->streamlit) (3.0.2)\n",
            "Requirement already satisfied: attrs>=22.2.0 in /usr/local/lib/python3.11/dist-packages (from jsonschema>=3.0->altair<6,>=4.0->streamlit) (25.1.0)\n",
            "Requirement already satisfied: jsonschema-specifications>=2023.03.6 in /usr/local/lib/python3.11/dist-packages (from jsonschema>=3.0->altair<6,>=4.0->streamlit) (2024.10.1)\n",
            "Requirement already satisfied: referencing>=0.28.4 in /usr/local/lib/python3.11/dist-packages (from jsonschema>=3.0->altair<6,>=4.0->streamlit) (0.36.2)\n",
            "Requirement already satisfied: rpds-py>=0.7.1 in /usr/local/lib/python3.11/dist-packages (from jsonschema>=3.0->altair<6,>=4.0->streamlit) (0.23.1)\n",
            "Requirement already satisfied: six>=1.5 in /usr/local/lib/python3.11/dist-packages (from python-dateutil>=2.8.2->pandas<3,>=1.4.0->streamlit) (1.17.0)\n",
            "Downloading streamlit-1.43.1-py2.py3-none-any.whl (9.7 MB)\n",
            "\u001b[2K   \u001b[90m━━━━━━━━━━━━━━━━━━━━━━━━━━━━━━━━━━━━━━━━\u001b[0m \u001b[32m9.7/9.7 MB\u001b[0m \u001b[31m81.3 MB/s\u001b[0m eta \u001b[36m0:00:00\u001b[0m\n",
            "\u001b[?25hDownloading pydeck-0.9.1-py2.py3-none-any.whl (6.9 MB)\n",
            "\u001b[2K   \u001b[90m━━━━━━━━━━━━━━━━━━━━━━━━━━━━━━━━━━━━━━━━\u001b[0m \u001b[32m6.9/6.9 MB\u001b[0m \u001b[31m92.7 MB/s\u001b[0m eta \u001b[36m0:00:00\u001b[0m\n",
            "\u001b[?25hDownloading watchdog-6.0.0-py3-none-manylinux2014_x86_64.whl (79 kB)\n",
            "\u001b[2K   \u001b[90m━━━━━━━━━━━━━━━━━━━━━━━━━━━━━━━━━━━━━━━━\u001b[0m \u001b[32m79.1/79.1 kB\u001b[0m \u001b[31m6.9 MB/s\u001b[0m eta \u001b[36m0:00:00\u001b[0m\n",
            "\u001b[?25hInstalling collected packages: watchdog, pydeck, streamlit\n",
            "Successfully installed pydeck-0.9.1 streamlit-1.43.1 watchdog-6.0.0\n",
            "nohup: appending output to 'nohup.out'\n"
          ]
        }
      ]
    },
    {
      "cell_type": "code",
      "source": [
        "from pyngrok import ngrok\n",
        "\n",
        "# Start ngrok tunnel for Streamlit (port 8501)\n",
        "streamlit_url = ngrok.connect(8501)\n",
        "print(f\"Public Streamlit URL: {streamlit_url}\")\n"
      ],
      "metadata": {
        "colab": {
          "base_uri": "https://localhost:8080/"
        },
        "id": "7SyK1a_hrSQ1",
        "outputId": "5a69cad9-c6c8-49da-eeaa-d2c798a9381b"
      },
      "execution_count": 15,
      "outputs": [
        {
          "output_type": "stream",
          "name": "stdout",
          "text": [
            "Public Streamlit URL: NgrokTunnel: \"https://f839-34-19-119-8.ngrok-free.app\" -> \"http://localhost:8501\"\n"
          ]
        }
      ]
    },
    {
      "cell_type": "markdown",
      "source": [
        "if you get error while running the tunnels or streamlit or flask  then you can use below code to correct the errors"
      ],
      "metadata": {
        "id": "lu5L6h3xpSs6"
      }
    },
    {
      "cell_type": "code",
      "source": [
        "# i go through the link and enter skills but i gives error as \"Error fetching recommendations. Please try again!\" so the below code is for checking the error."
      ],
      "metadata": {
        "id": "f40Cz8nWsHBu"
      },
      "execution_count": 18,
      "outputs": []
    },
    {
      "cell_type": "code",
      "source": [
        "!ps aux | grep python #running processes\n"
      ],
      "metadata": {
        "colab": {
          "base_uri": "https://localhost:8080/"
        },
        "id": "wRIz5ZSlrWxx",
        "outputId": "172ef9b4-da1a-4c4f-958d-7aebdf8a0c2a"
      },
      "execution_count": 19,
      "outputs": [
        {
          "output_type": "stream",
          "name": "stdout",
          "text": [
            "root          68  0.8  0.0      0     0 ?        Z    01:08   0:20 [python3] <defunct>\n",
            "root          69  0.0  0.3  63772 50036 ?        S    01:08   0:00 python3 /usr/local/bin/colab-file\n",
            "root          90  0.2  0.9 461256 127908 ?       Sl   01:08   0:06 /usr/bin/python3 /usr/local/bin/j\n",
            "root         909  1.1 25.4 4635624 3383752 ?     Ssl  01:11   0:25 /usr/bin/python3 -m colab_kernel_\n",
            "root         943  0.2  0.1 545760 21508 ?        Sl   01:11   0:06 /usr/bin/python3 /usr/local/lib/p\n",
            "root        2091  0.6 24.9 3731680 3318240 ?     Sl   01:16   0:12 python3 app.py\n",
            "root        3103  0.2  0.4 366108 61580 ?        Sl   01:20   0:03 /usr/bin/python3 /usr/local/bin/s\n",
            "root        9667  0.0  0.0   7376  3440 ?        S    01:47   0:00 /bin/bash -c ps aux | grep python\n",
            "root        9669  0.0  0.0   6484  2248 ?        S    01:47   0:00 grep python\n"
          ]
        }
      ]
    },
    {
      "cell_type": "code",
      "source": [
        "from pyngrok import ngrok\n",
        "print(ngrok.get_tunnels())\n"
      ],
      "metadata": {
        "colab": {
          "base_uri": "https://localhost:8080/"
        },
        "id": "4GT3daA5rzQU",
        "outputId": "0b084a00-152c-4ec3-c775-2e8be7a72dc0"
      },
      "execution_count": 20,
      "outputs": [
        {
          "output_type": "stream",
          "name": "stdout",
          "text": [
            "[<NgrokTunnel: \"https://54b2-34-19-119-8.ngrok-free.app\" -> \"http://localhost:5000\">, <NgrokTunnel: \"https://f839-34-19-119-8.ngrok-free.app\" -> \"http://localhost:8501\">]\n"
          ]
        }
      ]
    },
    {
      "cell_type": "code",
      "source": [
        "import requests\n",
        "\n",
        "API_URL = \"https://54b2-34-19-119-8.ngrok-free.app/recommend\"\n",
        "\n",
        "response = requests.post(API_URL, json={\"skills\": \"C++, SQL, Python\"})\n",
        "print(response.status_code)\n",
        "print(response.json())\n"
      ],
      "metadata": {
        "colab": {
          "base_uri": "https://localhost:8080/"
        },
        "id": "E6F7zEUPsFQD",
        "outputId": "e774ebfb-19f3-4f10-eb7a-171f53bc8d36"
      },
      "execution_count": 22,
      "outputs": [
        {
          "output_type": "stream",
          "name": "stdout",
          "text": [
            "200\n",
            "[{'Company Name': 'Amazon', 'Job Location': 'ahmedabad', 'Job Title': 'Software Engineer', 'Job Type': 'full-time', 'Skills Required': 'C++, SQL, Python'}, {'Company Name': 'Google', 'Job Location': 'mumbai', 'Job Title': 'Sales Representative', 'Job Type': 'part-time', 'Skills Required': 'C++, SQL, Python'}, {'Company Name': 'Amazon', 'Job Location': 'pune', 'Job Title': 'Financial Analyst', 'Job Type': 'internship', 'Skills Required': 'SQL, C++, Python'}, {'Company Name': 'Amazon', 'Job Location': 'hyderabad', 'Job Title': 'Software Engineer', 'Job Type': 'contract', 'Skills Required': 'SQL, Python, C++'}, {'Company Name': 'Microsoft', 'Job Location': 'noida', 'Job Title': 'Data Scientist', 'Job Type': 'full-time', 'Skills Required': 'C++, Python, SQL'}]\n"
          ]
        }
      ]
    },
    {
      "cell_type": "code",
      "source": [
        "#to kill multiple tunnels running"
      ],
      "metadata": {
        "id": "HSyNQUWLs7d1"
      },
      "execution_count": 32,
      "outputs": []
    },
    {
      "cell_type": "code",
      "source": [
        "!pgrep -af ngrok\n"
      ],
      "metadata": {
        "id": "cmnJnVHwEeR5"
      },
      "execution_count": 2,
      "outputs": []
    },
    {
      "cell_type": "code",
      "source": [
        "!kill 55352  #!pkill -f ngrok (to kill all ngrok processes)\n",
        "\n"
      ],
      "metadata": {
        "id": "QaWaEZAIEe7s"
      },
      "execution_count": 63,
      "outputs": []
    },
    {
      "cell_type": "code",
      "source": [],
      "metadata": {
        "id": "oeaKCGo0Ejo0"
      },
      "execution_count": null,
      "outputs": []
    }
  ]
}